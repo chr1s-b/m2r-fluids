{
  "nbformat": 4,
  "nbformat_minor": 0,
  "metadata": {
    "colab": {
      "provenance": [],
      "authorship_tag": "ABX9TyPPJRkXKwd+zk1bRix5cWox",
      "include_colab_link": true
    },
    "kernelspec": {
      "name": "python3",
      "display_name": "Python 3"
    },
    "language_info": {
      "name": "python"
    }
  },
  "cells": [
    {
      "cell_type": "markdown",
      "metadata": {
        "id": "view-in-github",
        "colab_type": "text"
      },
      "source": [
        "<a href=\"https://colab.research.google.com/github/chr1s-b/m2r-fluids/blob/main/m2r_fluids_notebook.ipynb\" target=\"_parent\"><img src=\"https://colab.research.google.com/assets/colab-badge.svg\" alt=\"Open In Colab\"/></a>"
      ]
    },
    {
      "cell_type": "markdown",
      "source": [
        "Make necessary imports:"
      ],
      "metadata": {
        "id": "RdAErTDVynP0"
      }
    },
    {
      "cell_type": "code",
      "source": [
        "import numpy as np\n",
        "import matplotlib.pyplot as plt"
      ],
      "metadata": {
        "id": "hsL0MbfryuK5"
      },
      "execution_count": 3,
      "outputs": []
    },
    {
      "cell_type": "markdown",
      "source": [
        "Define difference equations:"
      ],
      "metadata": {
        "id": "6RCkRXfCywoh"
      }
    },
    {
      "cell_type": "code",
      "source": [
        "def backward_euler(u, n, j, h, k):\n",
        "    u[n+1, j] = u[n, j] - (k / (2*h)) * (u[n, j+1] - u[n, j-1])\n",
        "\n",
        "\n",
        "def upwind(u, n, j, h, k):\n",
        "    u[n+1, j] = u[n, j] - (k/h) * (u[n, j+1] - u[n, j-1])\n",
        "\n",
        "\n",
        "def lax_friedrichs(u, n, j, h, k):\n",
        "    u[n+1, j] = (1/2) * (u[n, j-1] - u[n, j+1]) - (k / (2*h)) * (u[n, j+1] - u[n, j-1])\n",
        "\n",
        "\n",
        "def lax_wendroff(u, n, j, h, k):\n",
        "    u[n+1, j] = u[n, j] - (k / (2*h)) * (u[n, j+1] - u[n, j-1]) + (k**2 / (2*h**2)) * (u[n, j+1] - 2*u[n, j] + u[n, j-1])\n",
        "\n",
        "\n",
        "def beam_warming(u, n, j, h, k):\n",
        "    u[n+1, j] = u[n, j] - (k / (2*h)) * (3*u[n, j] - 4*u[n, j-1] + u[n, j-2]) + (k**2 / (2*h**2)) * (u[n, j] - 2*u[n, j-1] + u[n, j-2])\n"
      ],
      "metadata": {
        "id": "k0cv3SqzywOm"
      },
      "execution_count": 5,
      "outputs": []
    },
    {
      "cell_type": "markdown",
      "source": [
        "Discretisation constants and final time to numerically solve for:"
      ],
      "metadata": {
        "id": "LmBnUQBsy4Qa"
      }
    },
    {
      "cell_type": "code",
      "source": [
        "L = 100     # domain size\n",
        "T = 0.5   # final time\n",
        "h = 0.01    # mesh width\n",
        "k = 0.5 * h # time step (wrt mesh ratio and h)\n",
        "a = -L/2.   # lower bound\n",
        "b = L/2.    # upper bound"
      ],
      "metadata": {
        "id": "U2-SzIo5zEVC"
      },
      "execution_count": 19,
      "outputs": []
    },
    {
      "cell_type": "markdown",
      "source": [
        "Define initial condition:"
      ],
      "metadata": {
        "id": "4cJLxLWxzHAr"
      }
    },
    {
      "cell_type": "code",
      "source": [
        "def u_0(y: np.ndarray):\n",
        "    \"\"\"Define initial condition at t=0.\"\"\"\n",
        "    return np.where(y <= 0, 1.0, 0.0)"
      ],
      "metadata": {
        "id": "pO_0LEYhzJkc"
      },
      "execution_count": 20,
      "outputs": []
    },
    {
      "cell_type": "markdown",
      "source": [
        "Choose a difference method to use:"
      ],
      "metadata": {
        "id": "cvqL0dHUzMOp"
      }
    },
    {
      "cell_type": "code",
      "source": [
        "difference_method = lax_wendroff"
      ],
      "metadata": {
        "id": "H44vRJI_zL3u"
      },
      "execution_count": 21,
      "outputs": []
    },
    {
      "cell_type": "markdown",
      "source": [
        "Numerically solve:"
      ],
      "metadata": {
        "id": "TK9uspjezRg1"
      }
    },
    {
      "cell_type": "code",
      "source": [
        "# create space for numerical solution\n",
        "\n",
        "x = np.arange(a, b, h)\n",
        "t = np.arange(0, T, k)\n",
        "\n",
        "u = np.zeros((len(t), len(x)))\n",
        "\n",
        "# apply initial condition\n",
        "u[0] = u_0(x)\n",
        "\n",
        "# numerically solve\n",
        "for n in range(len(t)-1):\n",
        "    for j in range(1, len(x)-1):\n",
        "        difference_method(u, n, j, h, k)"
      ],
      "metadata": {
        "id": "o310aUwPzWvJ"
      },
      "execution_count": 22,
      "outputs": []
    },
    {
      "cell_type": "markdown",
      "source": [
        "Apply the analytic solution for comparison:"
      ],
      "metadata": {
        "id": "qvl9DL4tzbtc"
      }
    },
    {
      "cell_type": "code",
      "source": [
        "# apply analytic solution\n",
        "exact_solution = np.zeros((len(t), len(x)))\n",
        "for n in range(len(t)):\n",
        "    exact_solution[n] = u_0(x - t[n])"
      ],
      "metadata": {
        "id": "1GzDW2gHzhMA"
      },
      "execution_count": 23,
      "outputs": []
    },
    {
      "cell_type": "markdown",
      "source": [
        "Do plotting:"
      ],
      "metadata": {
        "id": "ptrcKThCzjEK"
      }
    },
    {
      "cell_type": "code",
      "execution_count": 24,
      "metadata": {
        "colab": {
          "base_uri": "https://localhost:8080/",
          "height": 472
        },
        "id": "MHcY50LryTgl",
        "outputId": "005636e4-4945-46e3-b5de-df952f3668f9"
      },
      "outputs": [
        {
          "output_type": "display_data",
          "data": {
            "text/plain": [
              "<Figure size 640x480 with 1 Axes>"
            ],
            "image/png": "[encoded data removed]"
          },
          "metadata": {}
        }
      ],
      "source": [
        "def method_to_name(method: callable) -> str:\n",
        "    \"\"\"Convert function to a name.\"\"\"\n",
        "    return method.__name__.replace(\"_\", \"-\").title()\n",
        "\n",
        "\n",
        "plt.title(f\"{method_to_name(difference_method)}\")\n",
        "plt.xlabel(\"x\")\n",
        "plt.ylabel(\"u\")\n",
        "plt.xlim([0, 1])\n",
        "plt.ylim([-0.5, 1.5])\n",
        "plt.plot(x, u[-1], '.')\n",
        "plt.plot(x, exact_solution[-1])\n",
        "plt.grid(True)\n",
        "plt.show()"
      ]
    },
    {
      "cell_type": "code",
      "source": [],
      "metadata": {
        "id": "nAYgpRBtzwim"
      },
      "execution_count": null,
      "outputs": []
    }
  ]
}